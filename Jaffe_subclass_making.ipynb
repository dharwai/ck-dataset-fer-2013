{
 "cells": [
  {
   "cell_type": "code",
   "execution_count": 31,
   "id": "719a6631",
   "metadata": {},
   "outputs": [
    {
     "name": "stdout",
     "output_type": "stream",
     "text": [
      "happy: 31 images\n",
      "angry: 30 images\n",
      "surprise: 30 images\n",
      "neutral: 30 images\n",
      "sad: 31 images\n",
      "disgust: 29 images\n",
      "fear: 32 images\n"
     ]
    }
   ],
   "source": [
    "import os\n",
    "\n",
    "# Define the path for the extraction directory\n",
    "extraction_directory = 'jaffe_dataset/jaffedbasee'  # Assuming you have already extracted the dataset\n",
    "\n",
    "# Emotion codes and their corresponding directories\n",
    "emotion_classes = {\n",
    "    'HA': 'happy',\n",
    "    'AN': 'angry',\n",
    "    'SU': 'surprise',\n",
    "    'NE': 'neutral',\n",
    "    'SA': 'sad',\n",
    "    'DI': 'disgust',\n",
    "    'FE': 'fear'\n",
    "}\n",
    "\n",
    "# Confirm the organization\n",
    "for emotion, emotion_label in emotion_classes.items():\n",
    "    emotion_path = os.path.join(extraction_directory, emotion_label)\n",
    "    image_count = len(os.listdir(emotion_path))\n",
    "    print(f\"{emotion_label}: {image_count} images\")\n"
   ]
  },
  {
   "cell_type": "code",
   "execution_count": 30,
   "id": "3be79393",
   "metadata": {},
   "outputs": [
    {
     "name": "stdout",
     "output_type": "stream",
     "text": [
      "Images saved successfully to the destination directory.\n"
     ]
    }
   ],
   "source": [
    "import shutil\n",
    "\n",
    "# Define the destination directory on your local machine\n",
    "save_directory = 'Jafeedatabsefolder'     # creat the folder of the same name mention here in machine it will create allsubfolders\n",
    "\n",
    "# Create directories for each emotion class if they don't exist\n",
    "for emotion_label in emotion_classes.values():\n",
    "    destination_path = os.path.join(save_directory, emotion_label)\n",
    "    if not os.path.exists(destination_path):\n",
    "        os.makedirs(destination_path)\n",
    "\n",
    "# Move each image to its corresponding class directory\n",
    "for emotion in emotion_classes.keys():\n",
    "    emotion_label = emotion_classes[emotion]\n",
    "    source_path = os.path.join(extraction_directory, emotion_label)\n",
    "    destination_path = os.path.join(save_directory, emotion_label)\n",
    "    shutil.copytree(source_path, destination_path, dirs_exist_ok=True)\n",
    "\n",
    "print(\"Images saved successfully to the destination directory.\")\n"
   ]
  },
  {
   "cell_type": "code",
   "execution_count": 12,
   "id": "da743b47",
   "metadata": {},
   "outputs": [],
   "source": []
  },
  {
   "cell_type": "code",
   "execution_count": null,
   "id": "7b7e517b",
   "metadata": {
    "scrolled": true
   },
   "outputs": [],
   "source": []
  },
  {
   "cell_type": "code",
   "execution_count": null,
   "id": "41c0aa12",
   "metadata": {},
   "outputs": [],
   "source": []
  },
  {
   "cell_type": "code",
   "execution_count": null,
   "id": "ec868b4d",
   "metadata": {},
   "outputs": [],
   "source": []
  },
  {
   "cell_type": "code",
   "execution_count": null,
   "id": "64f2b0f3",
   "metadata": {},
   "outputs": [],
   "source": []
  },
  {
   "cell_type": "code",
   "execution_count": 29,
   "id": "dd82b144",
   "metadata": {},
   "outputs": [
    {
     "name": "stdout",
     "output_type": "stream",
     "text": [
      "happy: 31 images\n",
      "angry: 30 images\n",
      "surprise: 30 images\n",
      "neutral: 30 images\n",
      "sad: 31 images\n",
      "disgust: 29 images\n",
      "fear: 32 images\n"
     ]
    }
   ],
   "source": []
  },
  {
   "cell_type": "code",
   "execution_count": 27,
   "id": "83b4c565",
   "metadata": {},
   "outputs": [
    {
     "name": "stdout",
     "output_type": "stream",
     "text": [
      "Images saved successfully to the destination directory.\n"
     ]
    }
   ],
   "source": []
  },
  {
   "cell_type": "code",
   "execution_count": null,
   "id": "8e609160",
   "metadata": {},
   "outputs": [],
   "source": []
  },
  {
   "cell_type": "code",
   "execution_count": null,
   "id": "8bc70930",
   "metadata": {},
   "outputs": [],
   "source": []
  },
  {
   "cell_type": "code",
   "execution_count": null,
   "id": "789c1a62",
   "metadata": {},
   "outputs": [],
   "source": []
  },
  {
   "cell_type": "code",
   "execution_count": null,
   "id": "cf86c145",
   "metadata": {},
   "outputs": [],
   "source": []
  }
 ],
 "metadata": {
  "kernelspec": {
   "display_name": "Python 3 (ipykernel)",
   "language": "python",
   "name": "python3"
  },
  "language_info": {
   "codemirror_mode": {
    "name": "ipython",
    "version": 3
   },
   "file_extension": ".py",
   "mimetype": "text/x-python",
   "name": "python",
   "nbconvert_exporter": "python",
   "pygments_lexer": "ipython3",
   "version": "3.9.7"
  }
 },
 "nbformat": 4,
 "nbformat_minor": 5
}
