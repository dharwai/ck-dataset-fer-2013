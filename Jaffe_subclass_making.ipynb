{
 "cells": [
  {
   "cell_type": "code",
   "execution_count": 31,
   "id": "839664a0",
   "metadata": {},
   "outputs": [
    {
     "name": "stdout",
     "output_type": "stream",
     "text": [
      "happy: 31 images\n",
      "angry: 30 images\n",
      "surprise: 30 images\n",
      "neutral: 30 images\n",
      "sad: 31 images\n",
      "disgust: 29 images\n",
      "fear: 32 images\n"
     ]
    }
   ],
   "source": [
    "import os\n",
    "\n",
    "# Define the path for the extraction directory\n",
    "extraction_directory = 'jaffe_dataset/jaffedbasee'  # Assuming you have already extracted the dataset\n",
    "\n",
    "# Emotion codes and their corresponding directories\n",
    "emotion_classes = {\n",
    "    'HA': 'happy',\n",
    "    'AN': 'angry',\n",
    "    'SU': 'surprise',\n",
    "    'NE': 'neutral',\n",
    "    'SA': 'sad',\n",
    "    'DI': 'disgust',\n",
    "    'FE': 'fear'\n",
    "}\n",
    "\n",
    "# Confirm the organization\n",
    "for emotion, emotion_label in emotion_classes.items():\n",
    "    emotion_path = os.path.join(extraction_directory, emotion_label)\n",
    "    image_count = len(os.listdir(emotion_path))\n",
    "    print(f\"{emotion_label}: {image_count} images\")\n"
   ]
  },
  {
   "cell_type": "code",
   "execution_count": 30,
   "id": "886d669f",
   "metadata": {},
   "outputs": [
    {
     "name": "stdout",
     "output_type": "stream",
     "text": [
      "Images saved successfully to the destination directory.\n"
     ]
    }
   ],
   "source": [
    "import shutil\n",
    "\n",
    "# Define the destination directory on your local machine\n",
    "save_directory = 'Jafeedatabsefolder'     # creat the folder of the same name mention here in machine it will create allsubfolders\n",
    "\n",
    "# Create directories for each emotion class if they don't exist\n",
    "for emotion_label in emotion_classes.values():\n",
    "    destination_path = os.path.join(save_directory, emotion_label)\n",
    "    if not os.path.exists(destination_path):\n",
    "        os.makedirs(destination_path)\n",
    "\n",
    "# Move each image to its corresponding class directory\n",
    "for emotion in emotion_classes.keys():\n",
    "    emotion_label = emotion_classes[emotion]\n",
    "    source_path = os.path.join(extraction_directory, emotion_label)\n",
    "    destination_path = os.path.join(save_directory, emotion_label)\n",
    "    shutil.copytree(source_path, destination_path, dirs_exist_ok=True)\n",
    "\n",
    "print(\"Images saved successfully to the destination directory.\")\n"
   ]
  },
  {
   "cell_type": "code",
   "execution_count": 12,
   "id": "4d9dbf64",
   "metadata": {},
   "outputs": [],
   "source": [
    "# Randomly split in trian an dtesting"
   ]
  },
  {
   "cell_type": "code",
   "execution_count": 33,
   "id": "9230d35a",
   "metadata": {
    "scrolled": true
   },
   "outputs": [
    {
     "ename": "PermissionError",
     "evalue": "[Errno 13] Permission denied: 'Jaffedatasett_sepratecalss\\\\angry\\\\test'",
     "output_type": "error",
     "traceback": [
      "\u001b[1;31m---------------------------------------------------------------------------\u001b[0m",
      "\u001b[1;31mPermissionError\u001b[0m                           Traceback (most recent call last)",
      "\u001b[1;32m~\\AppData\\Local\\Temp\\ipykernel_13896\\4164234612.py\u001b[0m in \u001b[0;36m<module>\u001b[1;34m\u001b[0m\n\u001b[0;32m     39\u001b[0m \u001b[1;32mif\u001b[0m \u001b[0m__name__\u001b[0m \u001b[1;33m==\u001b[0m \u001b[1;34m\"__main__\"\u001b[0m\u001b[1;33m:\u001b[0m\u001b[1;33m\u001b[0m\u001b[1;33m\u001b[0m\u001b[0m\n\u001b[0;32m     40\u001b[0m     \u001b[0mdataset_root\u001b[0m \u001b[1;33m=\u001b[0m \u001b[1;34m\"Jaffedatasett_sepratecalss\"\u001b[0m\u001b[1;33m\u001b[0m\u001b[1;33m\u001b[0m\u001b[0m\n\u001b[1;32m---> 41\u001b[1;33m     \u001b[0msplit_dataset\u001b[0m\u001b[1;33m(\u001b[0m\u001b[0mdataset_root\u001b[0m\u001b[1;33m)\u001b[0m\u001b[1;33m\u001b[0m\u001b[1;33m\u001b[0m\u001b[0m\n\u001b[0m",
      "\u001b[1;32m~\\AppData\\Local\\Temp\\ipykernel_13896\\4164234612.py\u001b[0m in \u001b[0;36msplit_dataset\u001b[1;34m(root_dir, train_ratio)\u001b[0m\n\u001b[0;32m     35\u001b[0m                 \u001b[0msrc_path\u001b[0m \u001b[1;33m=\u001b[0m \u001b[0mos\u001b[0m\u001b[1;33m.\u001b[0m\u001b[0mpath\u001b[0m\u001b[1;33m.\u001b[0m\u001b[0mjoin\u001b[0m\u001b[1;33m(\u001b[0m\u001b[0mclass_path\u001b[0m\u001b[1;33m,\u001b[0m \u001b[0mimage\u001b[0m\u001b[1;33m)\u001b[0m\u001b[1;33m\u001b[0m\u001b[1;33m\u001b[0m\u001b[0m\n\u001b[0;32m     36\u001b[0m                 \u001b[0mdest_path\u001b[0m \u001b[1;33m=\u001b[0m \u001b[0mos\u001b[0m\u001b[1;33m.\u001b[0m\u001b[0mpath\u001b[0m\u001b[1;33m.\u001b[0m\u001b[0mjoin\u001b[0m\u001b[1;33m(\u001b[0m\u001b[0mtest_folder\u001b[0m\u001b[1;33m,\u001b[0m \u001b[0mimage\u001b[0m\u001b[1;33m)\u001b[0m\u001b[1;33m\u001b[0m\u001b[1;33m\u001b[0m\u001b[0m\n\u001b[1;32m---> 37\u001b[1;33m                 \u001b[0mshutil\u001b[0m\u001b[1;33m.\u001b[0m\u001b[0mcopy\u001b[0m\u001b[1;33m(\u001b[0m\u001b[0msrc_path\u001b[0m\u001b[1;33m,\u001b[0m \u001b[0mdest_path\u001b[0m\u001b[1;33m)\u001b[0m\u001b[1;33m\u001b[0m\u001b[1;33m\u001b[0m\u001b[0m\n\u001b[0m\u001b[0;32m     38\u001b[0m \u001b[1;33m\u001b[0m\u001b[0m\n\u001b[0;32m     39\u001b[0m \u001b[1;32mif\u001b[0m \u001b[0m__name__\u001b[0m \u001b[1;33m==\u001b[0m \u001b[1;34m\"__main__\"\u001b[0m\u001b[1;33m:\u001b[0m\u001b[1;33m\u001b[0m\u001b[1;33m\u001b[0m\u001b[0m\n",
      "\u001b[1;32m~\\anaconda3\\lib\\shutil.py\u001b[0m in \u001b[0;36mcopy\u001b[1;34m(src, dst, follow_symlinks)\u001b[0m\n\u001b[0;32m    424\u001b[0m     \u001b[1;32mif\u001b[0m \u001b[0mos\u001b[0m\u001b[1;33m.\u001b[0m\u001b[0mpath\u001b[0m\u001b[1;33m.\u001b[0m\u001b[0misdir\u001b[0m\u001b[1;33m(\u001b[0m\u001b[0mdst\u001b[0m\u001b[1;33m)\u001b[0m\u001b[1;33m:\u001b[0m\u001b[1;33m\u001b[0m\u001b[1;33m\u001b[0m\u001b[0m\n\u001b[0;32m    425\u001b[0m         \u001b[0mdst\u001b[0m \u001b[1;33m=\u001b[0m \u001b[0mos\u001b[0m\u001b[1;33m.\u001b[0m\u001b[0mpath\u001b[0m\u001b[1;33m.\u001b[0m\u001b[0mjoin\u001b[0m\u001b[1;33m(\u001b[0m\u001b[0mdst\u001b[0m\u001b[1;33m,\u001b[0m \u001b[0mos\u001b[0m\u001b[1;33m.\u001b[0m\u001b[0mpath\u001b[0m\u001b[1;33m.\u001b[0m\u001b[0mbasename\u001b[0m\u001b[1;33m(\u001b[0m\u001b[0msrc\u001b[0m\u001b[1;33m)\u001b[0m\u001b[1;33m)\u001b[0m\u001b[1;33m\u001b[0m\u001b[1;33m\u001b[0m\u001b[0m\n\u001b[1;32m--> 426\u001b[1;33m     \u001b[0mcopyfile\u001b[0m\u001b[1;33m(\u001b[0m\u001b[0msrc\u001b[0m\u001b[1;33m,\u001b[0m \u001b[0mdst\u001b[0m\u001b[1;33m,\u001b[0m \u001b[0mfollow_symlinks\u001b[0m\u001b[1;33m=\u001b[0m\u001b[0mfollow_symlinks\u001b[0m\u001b[1;33m)\u001b[0m\u001b[1;33m\u001b[0m\u001b[1;33m\u001b[0m\u001b[0m\n\u001b[0m\u001b[0;32m    427\u001b[0m     \u001b[0mcopymode\u001b[0m\u001b[1;33m(\u001b[0m\u001b[0msrc\u001b[0m\u001b[1;33m,\u001b[0m \u001b[0mdst\u001b[0m\u001b[1;33m,\u001b[0m \u001b[0mfollow_symlinks\u001b[0m\u001b[1;33m=\u001b[0m\u001b[0mfollow_symlinks\u001b[0m\u001b[1;33m)\u001b[0m\u001b[1;33m\u001b[0m\u001b[1;33m\u001b[0m\u001b[0m\n\u001b[0;32m    428\u001b[0m     \u001b[1;32mreturn\u001b[0m \u001b[0mdst\u001b[0m\u001b[1;33m\u001b[0m\u001b[1;33m\u001b[0m\u001b[0m\n",
      "\u001b[1;32m~\\anaconda3\\lib\\shutil.py\u001b[0m in \u001b[0;36mcopyfile\u001b[1;34m(src, dst, follow_symlinks)\u001b[0m\n\u001b[0;32m    263\u001b[0m     \u001b[1;32melse\u001b[0m\u001b[1;33m:\u001b[0m\u001b[1;33m\u001b[0m\u001b[1;33m\u001b[0m\u001b[0m\n\u001b[0;32m    264\u001b[0m         \u001b[1;32mtry\u001b[0m\u001b[1;33m:\u001b[0m\u001b[1;33m\u001b[0m\u001b[1;33m\u001b[0m\u001b[0m\n\u001b[1;32m--> 265\u001b[1;33m             \u001b[1;32mwith\u001b[0m \u001b[0mopen\u001b[0m\u001b[1;33m(\u001b[0m\u001b[0msrc\u001b[0m\u001b[1;33m,\u001b[0m \u001b[1;34m'rb'\u001b[0m\u001b[1;33m)\u001b[0m \u001b[1;32mas\u001b[0m \u001b[0mfsrc\u001b[0m\u001b[1;33m,\u001b[0m \u001b[0mopen\u001b[0m\u001b[1;33m(\u001b[0m\u001b[0mdst\u001b[0m\u001b[1;33m,\u001b[0m \u001b[1;34m'wb'\u001b[0m\u001b[1;33m)\u001b[0m \u001b[1;32mas\u001b[0m \u001b[0mfdst\u001b[0m\u001b[1;33m:\u001b[0m\u001b[1;33m\u001b[0m\u001b[1;33m\u001b[0m\u001b[0m\n\u001b[0m\u001b[0;32m    266\u001b[0m                 \u001b[1;31m# macOS\u001b[0m\u001b[1;33m\u001b[0m\u001b[1;33m\u001b[0m\u001b[0m\n\u001b[0;32m    267\u001b[0m                 \u001b[1;32mif\u001b[0m \u001b[0m_HAS_FCOPYFILE\u001b[0m\u001b[1;33m:\u001b[0m\u001b[1;33m\u001b[0m\u001b[1;33m\u001b[0m\u001b[0m\n",
      "\u001b[1;31mPermissionError\u001b[0m: [Errno 13] Permission denied: 'Jaffedatasett_sepratecalss\\\\angry\\\\test'"
     ]
    }
   ],
   "source": [
    "import os\n",
    "import shutil\n",
    "import random\n",
    "\n",
    "def split_dataset(root_dir, train_ratio=0.8):\n",
    "    # Loop through each class subfolder\n",
    "    for class_folder in os.listdir(root_dir):\n",
    "        class_path = os.path.join(root_dir, class_folder)\n",
    "        \n",
    "        if os.path.isdir(class_path):\n",
    "            # List all image files in the class subfolder\n",
    "            images = os.listdir(class_path)\n",
    "            \n",
    "            # Calculate split point based on the desired ratio\n",
    "            split_point = int(train_ratio * len(images))\n",
    "            \n",
    "            # Randomly shuffle and split images into training and testing sets\n",
    "            train_images = random.sample(images, split_point)\n",
    "            test_images = list(set(images) - set(train_images))\n",
    "            \n",
    "            # Create training and testing folders within each class subfolder\n",
    "            train_folder = os.path.join(class_path, 'train')\n",
    "            test_folder = os.path.join(class_path, 'test')\n",
    "            \n",
    "            os.makedirs(train_folder, exist_ok=True)\n",
    "            os.makedirs(test_folder, exist_ok=True)\n",
    "            \n",
    "            # Copy images to the training and testing folders\n",
    "            for image in train_images:\n",
    "                src_path = os.path.join(class_path, image)\n",
    "                dest_path = os.path.join(train_folder, image)\n",
    "                shutil.copy(src_path, dest_path)\n",
    "\n",
    "            for image in test_images:\n",
    "                src_path = os.path.join(class_path, image)\n",
    "                dest_path = os.path.join(test_folder, image)\n",
    "                shutil.copy(src_path, dest_path)\n",
    "\n",
    "if __name__ == \"__main__\":\n",
    "    dataset_root = \"Jaffedatasett_sepratecalss\"\n",
    "    split_dataset(dataset_root)\n"
   ]
  },
  {
   "cell_type": "code",
   "execution_count": null,
   "id": "f7e6fbc1",
   "metadata": {},
   "outputs": [],
   "source": []
  },
  {
   "cell_type": "code",
   "execution_count": null,
   "id": "d5af5fb1",
   "metadata": {},
   "outputs": [],
   "source": []
  },
  {
   "cell_type": "code",
   "execution_count": null,
   "id": "59bfa427",
   "metadata": {},
   "outputs": [],
   "source": []
  },
  {
   "cell_type": "code",
   "execution_count": null,
   "id": "1867de00",
   "metadata": {},
   "outputs": [],
   "source": []
  },
  {
   "cell_type": "code",
   "execution_count": null,
   "id": "408b4d47",
   "metadata": {},
   "outputs": [],
   "source": []
  },
  {
   "cell_type": "code",
   "execution_count": null,
   "id": "25253416",
   "metadata": {},
   "outputs": [],
   "source": [
    "#ok"
   ]
  },
  {
   "cell_type": "code",
   "execution_count": 38,
   "id": "49cacd81",
   "metadata": {
    "scrolled": true
   },
   "outputs": [
    {
     "data": {
      "image/png": "[encoded data removed]",
      "text/plain": [
       "<Figure size 1000x600 with 1 Axes>"
      ]
     },
     "metadata": {},
     "output_type": "display_data"
    },
    {
     "name": "stdout",
     "output_type": "stream",
     "text": [
      "Found 170 validated image filenames belonging to 7 classes.\n",
      "Found 43 validated image filenames belonging to 7 classes.\n"
     ]
    }
   ],
   "source": [
    "import os\n",
    "import numpy as np\n",
    "import pandas as pd\n",
    "import matplotlib.pyplot as plt\n",
    "import seaborn as sns\n",
    "from sklearn.model_selection import train_test_split\n",
    "from tensorflow.keras.preprocessing.image import ImageDataGenerator\n",
    "from tensorflow.keras.applications.vgg19 import VGG19\n",
    "from tensorflow.keras.models import Sequential\n",
    "from tensorflow.keras.layers import Flatten, Dense, BatchNormalization, Dropout\n",
    "from tensorflow.keras.optimizers import Adam\n",
    "from tensorflow.keras.utils import plot_model\n",
    "\n",
    "# Define your dataset path\n",
    "base_dir = 'jaffedbasee'  # Update this path\n",
    "\n",
    "# Load all images and labels\n",
    "image_paths = []\n",
    "labels = []\n",
    "emotions = [\"happy\", \"angry\", \"surprise\", \"neutral\", \"sad\", \"disgust\", \"fear\"]\n",
    "\n",
    "for emotion in emotions:\n",
    "    emotion_dir = os.path.join(base_dir, emotion)\n",
    "    for image_file in os.listdir(emotion_dir):\n",
    "        if image_file.endswith('.tiff'):\n",
    "            image_paths.append(os.path.join(emotion_dir, image_file))\n",
    "            labels.append(emotion)\n",
    "\n",
    "# Create a DataFrame\n",
    "df = pd.DataFrame({'path': image_paths, 'label': labels})\n",
    "\n",
    "# Split the data into train and validation sets\n",
    "train_df, validation_df = train_test_split(df, test_size=0.2, random_state=42, stratify=df['label'])\n",
    "\n",
    "import seaborn as sns\n",
    "import matplotlib.pyplot as plt\n",
    "\n",
    "# Count the number of images per class in the entire dataset\n",
    "emotion_counts = df['label'].value_counts()\n",
    "\n",
    "# Plot the distribution\n",
    "plt.figure(figsize=(10, 6))\n",
    "sns.barplot(x=emotion_counts.index, y=emotion_counts.values)\n",
    "plt.title('Distribution of Emotions in the Dataset')\n",
    "plt.xlabel('Emotions')\n",
    "plt.ylabel('Number of Images')\n",
    "plt.show()\n",
    "\n",
    "\n",
    "\n",
    "\n",
    "\n",
    "\n",
    "\n",
    "\n",
    "# Data augmentation and generators\n",
    "datagen_train = ImageDataGenerator(rescale=1./255)\n",
    "datagen_val = ImageDataGenerator(rescale=1./255)\n",
    "\n",
    "train_generator = datagen_train.flow_from_dataframe(\n",
    "    dataframe=train_df,\n",
    "    x_col='path',\n",
    "    y_col='label',\n",
    "    target_size=(124, 124),\n",
    "    color_mode=\"rgb\",\n",
    "    batch_size=64,\n",
    "    class_mode='categorical',\n",
    "    shuffle=True\n",
    ")\n",
    "\n",
    "validation_generator = datagen_val.flow_from_dataframe(\n",
    "    dataframe=validation_df,\n",
    "    x_col='path',\n",
    "    y_col='label',\n",
    "    target_size=(124, 124),\n",
    "    color_mode=\"rgb\",\n",
    "    batch_size=64,\n",
    "    class_mode='categorical',\n",
    "    shuffle=False\n",
    ")\n",
    "\n",
    "from tensorflow.keras.applications.vgg19 import VGG19\n",
    "from tensorflow.keras.models import Sequential\n",
    "from tensorflow.keras.layers import Flatten, Dense, BatchNormalization, Dropout\n",
    "from tensorflow.keras.optimizers import Adam\n",
    "\n",
    "# Load VGG19 model\n",
    "conv_base = VGG19(weights='imagenet', include_top=False, input_shape=(124, 124, 3))\n",
    "conv_base.trainable = False  # Freeze the layers\n",
    "\n",
    "# Build the model\n",
    "model = Sequential()\n",
    "model.add(conv_base)\n",
    "model.add(Flatten())\n",
    "model.add(Dense(256, activation='relu'))\n",
    "model.add(BatchNormalization())\n",
    "model.add(Dropout(0.3))\n",
    "model.add(Dense(512, activation='relu'))\n",
    "model.add(BatchNormalization())\n",
    "model.add(Dropout(0.3))\n",
    "model.add(Dense(len(emotions), activation='softmax'))  # 7 classes for emotions\n",
    "\n",
    "# Compile the model\n",
    "model.compile(optimizer=Adam(learning_rate=0.001), loss='categorical_crossentropy', metrics=['accuracy'])\n",
    "\n",
    "# Train the model\n",
    "epochs = 5\n",
    "history = model.fit(\n",
    "    train_generator,\n",
    "    steps_per_epoch=train_generator.samples // train_generator.batch_size,\n",
    "    epochs=epochs,\n",
    "    validation_data=validation_generator,\n",
    "    validation_steps=validation_generator.samples // validation_generator.batch_size\n",
    ")\n",
    "\n",
    "\n",
    "\n",
    "\n",
    "# Plot training history\n",
    "plt.figure(figsize=(12, 6))\n",
    "plt.subplot(1, 2, 1)\n",
    "plt.plot(history.history['loss'], label='Training Loss')\n",
    "plt.plot(history.history['val_loss'], label='Validation Loss')\n",
    "plt.title('Loss')\n",
    "plt.legend()\n",
    "\n",
    "plt.subplot(1, 2, 2)\n",
    "plt.plot(history.history['accuracy'], label='Training Accuracy')\n",
    "plt.plot(history.history['val_accuracy'], label='Validation Accuracy')\n",
    "plt.title('Accuracy')\n",
    "plt.legend()\n",
    "plt.show()\n",
    "\n",
    "\n"
   ]
  },
  {
   "cell_type": "code",
   "execution_count": 39,
   "id": "ca411fca",
   "metadata": {},
   "outputs": [
    {
     "name": "stdout",
     "output_type": "stream",
     "text": [
      "Epoch 1/5\n",
      "2/2 [==============================] - 37s 12s/step - loss: 2.7318 - accuracy: 0.1698\n",
      "Epoch 2/5\n",
      "2/2 [==============================] - 26s 15s/step - loss: 1.7264 - accuracy: 0.4151\n",
      "Epoch 3/5\n",
      "2/2 [==============================] - 28s 18s/step - loss: 1.2642 - accuracy: 0.5755\n",
      "Epoch 4/5\n",
      "2/2 [==============================] - 25s 11s/step - loss: 0.8778 - accuracy: 0.6509\n",
      "Epoch 5/5\n",
      "2/2 [==============================] - 32s 15s/step - loss: 0.9574 - accuracy: 0.6484\n"
     ]
    }
   ],
   "source": [
    "from tensorflow.keras.applications.vgg19 import VGG19\n",
    "from tensorflow.keras.models import Sequential\n",
    "from tensorflow.keras.layers import Flatten, Dense, BatchNormalization, Dropout\n",
    "from tensorflow.keras.optimizers import Adam\n",
    "\n",
    "# Load VGG19 model\n",
    "conv_base = VGG19(weights='imagenet', include_top=False, input_shape=(124, 124, 3))\n",
    "conv_base.trainable = False  # Freeze the layers\n",
    "\n",
    "# Build the model\n",
    "model = Sequential()\n",
    "model.add(conv_base)\n",
    "model.add(Flatten())\n",
    "model.add(Dense(256, activation='relu'))\n",
    "model.add(BatchNormalization())\n",
    "model.add(Dropout(0.3))\n",
    "model.add(Dense(512, activation='relu'))\n",
    "model.add(BatchNormalization())\n",
    "model.add(Dropout(0.3))\n",
    "model.add(Dense(len(emotions), activation='softmax'))  # 7 classes for emotions\n",
    "\n",
    "# Compile the model\n",
    "model.compile(optimizer=Adam(learning_rate=0.001), loss='categorical_crossentropy', metrics=['accuracy'])\n",
    "\n",
    "# Train the model\n",
    "epochs = 5\n",
    "history = model.fit(\n",
    "    train_generator,\n",
    "    steps_per_epoch=train_generator.samples // train_generator.batch_size,\n",
    "    epochs=epochs,\n",
    "    validation_data=validation_generator,\n",
    "    validation_steps=validation_generator.samples // validation_generator.batch_size\n",
    ")\n"
   ]
  },
  {
   "cell_type": "code",
   "execution_count": 41,
   "id": "a2398a2c",
   "metadata": {},
   "outputs": [
    {
     "ename": "KeyError",
     "evalue": "'val_loss'",
     "output_type": "error",
     "traceback": [
      "\u001b[1;31m---------------------------------------------------------------------------\u001b[0m",
      "\u001b[1;31mKeyError\u001b[0m                                  Traceback (most recent call last)",
      "\u001b[1;32m~\\AppData\\Local\\Temp\\ipykernel_13896\\858591525.py\u001b[0m in \u001b[0;36m<module>\u001b[1;34m\u001b[0m\n\u001b[0;32m      3\u001b[0m \u001b[0mplt\u001b[0m\u001b[1;33m.\u001b[0m\u001b[0msubplot\u001b[0m\u001b[1;33m(\u001b[0m\u001b[1;36m1\u001b[0m\u001b[1;33m,\u001b[0m \u001b[1;36m2\u001b[0m\u001b[1;33m,\u001b[0m \u001b[1;36m1\u001b[0m\u001b[1;33m)\u001b[0m\u001b[1;33m\u001b[0m\u001b[1;33m\u001b[0m\u001b[0m\n\u001b[0;32m      4\u001b[0m \u001b[0mplt\u001b[0m\u001b[1;33m.\u001b[0m\u001b[0mplot\u001b[0m\u001b[1;33m(\u001b[0m\u001b[0mhistory\u001b[0m\u001b[1;33m.\u001b[0m\u001b[0mhistory\u001b[0m\u001b[1;33m[\u001b[0m\u001b[1;34m'loss'\u001b[0m\u001b[1;33m]\u001b[0m\u001b[1;33m,\u001b[0m \u001b[0mlabel\u001b[0m\u001b[1;33m=\u001b[0m\u001b[1;34m'Training Loss'\u001b[0m\u001b[1;33m)\u001b[0m\u001b[1;33m\u001b[0m\u001b[1;33m\u001b[0m\u001b[0m\n\u001b[1;32m----> 5\u001b[1;33m \u001b[0mplt\u001b[0m\u001b[1;33m.\u001b[0m\u001b[0mplot\u001b[0m\u001b[1;33m(\u001b[0m\u001b[0mhistory\u001b[0m\u001b[1;33m.\u001b[0m\u001b[0mhistory\u001b[0m\u001b[1;33m[\u001b[0m\u001b[1;34m'val_loss'\u001b[0m\u001b[1;33m]\u001b[0m\u001b[1;33m,\u001b[0m \u001b[0mlabel\u001b[0m\u001b[1;33m=\u001b[0m\u001b[1;34m'Validation Loss'\u001b[0m\u001b[1;33m)\u001b[0m\u001b[1;33m\u001b[0m\u001b[1;33m\u001b[0m\u001b[0m\n\u001b[0m\u001b[0;32m      6\u001b[0m \u001b[0mplt\u001b[0m\u001b[1;33m.\u001b[0m\u001b[0mtitle\u001b[0m\u001b[1;33m(\u001b[0m\u001b[1;34m'Loss'\u001b[0m\u001b[1;33m)\u001b[0m\u001b[1;33m\u001b[0m\u001b[1;33m\u001b[0m\u001b[0m\n\u001b[0;32m      7\u001b[0m \u001b[0mplt\u001b[0m\u001b[1;33m.\u001b[0m\u001b[0mlegend\u001b[0m\u001b[1;33m(\u001b[0m\u001b[1;33m)\u001b[0m\u001b[1;33m\u001b[0m\u001b[1;33m\u001b[0m\u001b[0m\n",
      "\u001b[1;31mKeyError\u001b[0m: 'val_loss'"
     ]
    },
    {
     "data": {
      "image/png": "[encoded data removed]",
      "text/plain": [
       "<Figure size 1200x600 with 1 Axes>"
      ]
     },
     "metadata": {},
     "output_type": "display_data"
    }
   ],
   "source": [
    "\n",
    "# Plot training history\n",
    "plt.figure(figsize=(12, 6))\n",
    "plt.subplot(1, 2, 1)\n",
    "plt.plot(history.history['loss'], label='Training Loss')\n",
    "plt.plot(history.history['val_loss'], label='Validation Loss')\n",
    "plt.title('Loss')\n",
    "plt.legend()\n",
    "\n",
    "plt.subplot(1, 2, 2)\n",
    "plt.plot(history.history['accuracy'], label='Training Accuracy')\n",
    "plt.plot(history.history['val_accuracy'], label='Validation Accuracy')\n",
    "plt.title('Accuracy')\n",
    "plt.legend()\n",
    "plt.show()\n"
   ]
  },
  {
   "cell_type": "code",
   "execution_count": 42,
   "id": "8ef8e093",
   "metadata": {},
   "outputs": [
    {
     "name": "stdout",
     "output_type": "stream",
     "text": [
      "Epoch 1/5\n",
      "2/2 [==============================] - 44s 25s/step - loss: 0.7422 - accuracy: 0.7578 - val_loss: 2.2995 - val_accuracy: 0.1860\n",
      "Epoch 2/5\n",
      "2/2 [==============================] - 42s 33s/step - loss: 0.7763 - accuracy: 0.7358 - val_loss: 2.3050 - val_accuracy: 0.1860\n",
      "Epoch 3/5\n",
      "2/2 [==============================] - 39s 24s/step - loss: 0.6499 - accuracy: 0.7422 - val_loss: 2.2889 - val_accuracy: 0.1395\n",
      "Epoch 4/5\n",
      "2/2 [==============================] - 33s 24s/step - loss: 0.5859 - accuracy: 0.7830 - val_loss: 2.3326 - val_accuracy: 0.2093\n",
      "Epoch 5/5\n",
      "2/2 [==============================] - 35s 19s/step - loss: 0.4399 - accuracy: 0.8585 - val_loss: 2.4301 - val_accuracy: 0.2093\n",
      "dict_keys(['loss', 'accuracy', 'val_loss', 'val_accuracy'])\n"
     ]
    },
    {
     "data": {
      "image/png": "[encoded data removed]",
      "text/plain": [
       "<Figure size 1200x600 with 2 Axes>"
      ]
     },
     "metadata": {},
     "output_type": "display_data"
    }
   ],
   "source": [
    "# ... [previous code]\n",
    "\n",
    "# Train the model\n",
    "epochs = 5\n",
    "history = model.fit(\n",
    "    train_generator,\n",
    "    steps_per_epoch=train_generator.samples // train_generator.batch_size,\n",
    "    epochs=epochs,\n",
    "    validation_data=validation_generator,\n",
    "    validation_steps=validation_generator.samples // validation_generator.batch_size + 1  # Adjusted\n",
    ")\n",
    "\n",
    "# Debug: Print keys in history object\n",
    "print(history.history.keys())\n",
    "\n",
    "# Plot training history only if 'val_loss' key exists\n",
    "if 'val_loss' in history.history:\n",
    "    plt.figure(figsize=(12, 6))\n",
    "    plt.subplot(1, 2, 1)\n",
    "    plt.plot(history.history['loss'], label='Training Loss')\n",
    "    plt.plot(history.history['val_loss'], label='Validation Loss')\n",
    "    plt.title('Loss')\n",
    "    plt.legend()\n",
    "\n",
    "    plt.subplot(1, 2, 2)\n",
    "    plt.plot(history.history['accuracy'], label='Training Accuracy')\n",
    "    plt.plot(history.history['val_accuracy'], label='Validation Accuracy')\n",
    "    plt.title('Accuracy')\n",
    "    plt.legend()\n",
    "    plt.show()\n",
    "else:\n",
    "    print(\"Validation loss ('val_loss') not found in history. Check your validation data and steps.\")\n"
   ]
  },
  {
   "cell_type": "code",
   "execution_count": 43,
   "id": "77c8bb39",
   "metadata": {},
   "outputs": [
    {
     "name": "stdout",
     "output_type": "stream",
     "text": [
      "1/1 [==============================] - 11s 11s/step\n"
     ]
    },
    {
     "data": {
      "image/png": "[encoded data removed]",
      "text/plain": [
       "<Figure size 800x800 with 2 Axes>"
      ]
     },
     "metadata": {},
     "output_type": "display_data"
    },
    {
     "name": "stdout",
     "output_type": "stream",
     "text": [
      "              precision    recall  f1-score   support\n",
      "\n",
      "       happy       0.00      0.00      0.00         6\n",
      "       angry       0.00      0.00      0.00         6\n",
      "    surprise       0.26      0.86      0.40         7\n",
      "     neutral       0.00      0.00      0.00         6\n",
      "         sad       0.15      0.50      0.23         6\n",
      "     disgust       0.00      0.00      0.00         6\n",
      "        fear       0.00      0.00      0.00         6\n",
      "\n",
      "    accuracy                           0.21        43\n",
      "   macro avg       0.06      0.19      0.09        43\n",
      "weighted avg       0.06      0.21      0.10        43\n",
      "\n"
     ]
    },
    {
     "name": "stderr",
     "output_type": "stream",
     "text": [
      "C:\\Users\\RAJESH KUMAR\\anaconda3\\lib\\site-packages\\sklearn\\metrics\\_classification.py:1318: UndefinedMetricWarning: Precision and F-score are ill-defined and being set to 0.0 in labels with no predicted samples. Use `zero_division` parameter to control this behavior.\n",
      "  _warn_prf(average, modifier, msg_start, len(result))\n",
      "C:\\Users\\RAJESH KUMAR\\anaconda3\\lib\\site-packages\\sklearn\\metrics\\_classification.py:1318: UndefinedMetricWarning: Precision and F-score are ill-defined and being set to 0.0 in labels with no predicted samples. Use `zero_division` parameter to control this behavior.\n",
      "  _warn_prf(average, modifier, msg_start, len(result))\n",
      "C:\\Users\\RAJESH KUMAR\\anaconda3\\lib\\site-packages\\sklearn\\metrics\\_classification.py:1318: UndefinedMetricWarning: Precision and F-score are ill-defined and being set to 0.0 in labels with no predicted samples. Use `zero_division` parameter to control this behavior.\n",
      "  _warn_prf(average, modifier, msg_start, len(result))\n"
     ]
    }
   ],
   "source": [
    "from sklearn.metrics import classification_report, confusion_matrix\n",
    "import seaborn as sns\n",
    "\n",
    "# Predict the values from the validation dataset\n",
    "validation_generator.reset()\n",
    "Y_pred = model.predict(validation_generator, steps=validation_generator.samples // validation_generator.batch_size + 1)\n",
    "# Convert predictions classes to one hot vectors \n",
    "Y_pred_classes = np.argmax(Y_pred, axis = 1)\n",
    "# Convert validation observations to one hot vectors\n",
    "Y_true = validation_generator.classes\n",
    "\n",
    "# Compute the confusion matrix\n",
    "confusion_mtx = confusion_matrix(Y_true, Y_pred_classes)\n",
    "\n",
    "# Plot the confusion matrix\n",
    "f,ax = plt.subplots(figsize=(8, 8))\n",
    "sns.heatmap(confusion_mtx, annot=True, linewidths=0.01, cmap=\"Greens\", linecolor=\"gray\", fmt='.1f', ax=ax)\n",
    "plt.xlabel(\"Predicted Label\")\n",
    "plt.ylabel(\"True Label\")\n",
    "plt.title(\"Confusion Matrix\")\n",
    "plt.show()\n",
    "\n",
    "# Print the precision and recall, among other metrics\n",
    "print(classification_report(Y_true, Y_pred_classes, target_names=emotions))\n"
   ]
  },
  {
   "cell_type": "code",
   "execution_count": null,
   "id": "b767ad3d",
   "metadata": {},
   "outputs": [],
   "source": []
  },
  {
   "cell_type": "code",
   "execution_count": null,
   "id": "bf16ad44",
   "metadata": {},
   "outputs": [],
   "source": []
  },
  {
   "cell_type": "code",
   "execution_count": null,
   "id": "442e569d",
   "metadata": {},
   "outputs": [],
   "source": []
  },
  {
   "cell_type": "code",
   "execution_count": null,
   "id": "a7c4ff9f",
   "metadata": {},
   "outputs": [],
   "source": [
    "#split"
   ]
  },
  {
   "cell_type": "code",
   "execution_count": 44,
   "id": "f7973d57",
   "metadata": {},
   "outputs": [],
   "source": []
  },
  {
   "cell_type": "code",
   "execution_count": 48,
   "id": "da399e18",
   "metadata": {},
   "outputs": [
    {
     "name": "stdout",
     "output_type": "stream",
     "text": [
      "Class: angry\n",
      "Number of images in training set: 24\n",
      "Number of images in testing set: 6\n",
      "Train directory: jaffedbasee Copy\\angry\\train\n",
      "Test directory: jaffedbasee Copy\\angry\\test\n",
      "-----------------------------\n",
      "Class: disgust\n",
      "Number of images in training set: 23\n",
      "Number of images in testing set: 6\n",
      "Train directory: jaffedbasee Copy\\disgust\\train\n",
      "Test directory: jaffedbasee Copy\\disgust\\test\n",
      "-----------------------------\n",
      "Class: fear\n",
      "Number of images in training set: 25\n",
      "Number of images in testing set: 7\n",
      "Train directory: jaffedbasee Copy\\fear\\train\n",
      "Test directory: jaffedbasee Copy\\fear\\test\n",
      "-----------------------------\n",
      "Class: happy\n",
      "Number of images in training set: 24\n",
      "Number of images in testing set: 7\n",
      "Train directory: jaffedbasee Copy\\happy\\train\n",
      "Test directory: jaffedbasee Copy\\happy\\test\n",
      "-----------------------------\n",
      "Class: neutral\n",
      "Number of images in training set: 24\n",
      "Number of images in testing set: 6\n",
      "Train directory: jaffedbasee Copy\\neutral\\train\n",
      "Test directory: jaffedbasee Copy\\neutral\\test\n",
      "-----------------------------\n",
      "Class: sad\n",
      "Number of images in training set: 24\n",
      "Number of images in testing set: 7\n",
      "Train directory: jaffedbasee Copy\\sad\\train\n",
      "Test directory: jaffedbasee Copy\\sad\\test\n",
      "-----------------------------\n",
      "Class: surprise\n",
      "Number of images in training set: 24\n",
      "Number of images in testing set: 6\n",
      "Train directory: jaffedbasee Copy\\surprise\\train\n",
      "Test directory: jaffedbasee Copy\\surprise\\test\n",
      "-----------------------------\n"
     ]
    }
   ],
   "source": [
    "import os\n",
    "import random\n",
    "from shutil import copy2\n",
    "\n",
    "root_dir = 'jaffedbasee Copy'  # Change this to your dataset directory\n",
    "class_subfolders = [d for d in os.listdir(root_dir) if os.path.isdir(os.path.join(root_dir, d))]\n",
    "\n",
    "train_ratio = 0.8\n",
    "\n",
    "for class_subfolder in class_subfolders:\n",
    "    class_dir = os.path.join(root_dir, class_subfolder)\n",
    "    image_files = [f for f in os.listdir(class_dir) if f.endswith('.tiff') and os.path.isfile(os.path.join(class_dir, f))]\n",
    "    \n",
    "    # Shuffle the list of image files randomly\n",
    "    random.shuffle(image_files)\n",
    "    \n",
    "    # Calculate the split point\n",
    "    split_point = int(len(image_files) * train_ratio)\n",
    "    train_files = image_files[:split_point]\n",
    "    test_files = image_files[split_point:]\n",
    "    \n",
    "    # Create new folders for training and testing sets within each class subfolder\n",
    "    train_dir = os.path.join(class_dir, 'train')\n",
    "    test_dir = os.path.join(class_dir, 'test')\n",
    "    os.makedirs(train_dir, exist_ok=True)\n",
    "    os.makedirs(test_dir, exist_ok=True)\n",
    "    \n",
    "    # Copy the appropriate percentage of images to the training and testing folders\n",
    "    for file in train_files:\n",
    "        src_file_path = os.path.join(class_dir, file)\n",
    "        dest_file_path = os.path.join(train_dir, file)\n",
    "        copy2(src_file_path, dest_file_path)\n",
    "    \n",
    "    for file in test_files:\n",
    "        src_file_path = os.path.join(class_dir, file)\n",
    "        dest_file_path = os.path.join(test_dir, file)\n",
    "        copy2(src_file_path, dest_file_path)\n",
    "    \n",
    "    # Print some information for debugging\n",
    "    print(f\"Class: {class_subfolder}\")\n",
    "    print(f\"Number of images in training set: {len(train_files)}\")\n",
    "    print(f\"Number of images in testing set: {len(test_files)}\")\n",
    "    print(f\"Train directory: {train_dir}\")\n",
    "    print(f\"Test directory: {test_dir}\")\n",
    "    print(\"-----------------------------\")\n"
   ]
  },
  {
   "cell_type": "code",
   "execution_count": null,
   "id": "b2746594",
   "metadata": {},
   "outputs": [],
   "source": []
  },
  {
   "cell_type": "code",
   "execution_count": 49,
   "id": "7d13d3c0",
   "metadata": {},
   "outputs": [
    {
     "name": "stdout",
     "output_type": "stream",
     "text": [
      "Class: angry\n",
      "Number of images in training set: 24\n",
      "Number of images in testing set: 6\n",
      "Train directory: jaFFFFFFdataset\\train\\angry\n",
      "Test directory: jaFFFFFFdataset\\test\\angry\n",
      "-----------------------------\n",
      "Class: disgust\n",
      "Number of images in training set: 23\n",
      "Number of images in testing set: 6\n",
      "Train directory: jaFFFFFFdataset\\train\\disgust\n",
      "Test directory: jaFFFFFFdataset\\test\\disgust\n",
      "-----------------------------\n",
      "Class: fear\n",
      "Number of images in training set: 25\n",
      "Number of images in testing set: 7\n",
      "Train directory: jaFFFFFFdataset\\train\\fear\n",
      "Test directory: jaFFFFFFdataset\\test\\fear\n",
      "-----------------------------\n",
      "Class: happy\n",
      "Number of images in training set: 24\n",
      "Number of images in testing set: 7\n",
      "Train directory: jaFFFFFFdataset\\train\\happy\n",
      "Test directory: jaFFFFFFdataset\\test\\happy\n",
      "-----------------------------\n",
      "Class: neutral\n",
      "Number of images in training set: 24\n",
      "Number of images in testing set: 6\n",
      "Train directory: jaFFFFFFdataset\\train\\neutral\n",
      "Test directory: jaFFFFFFdataset\\test\\neutral\n",
      "-----------------------------\n",
      "Class: sad\n",
      "Number of images in training set: 24\n",
      "Number of images in testing set: 7\n",
      "Train directory: jaFFFFFFdataset\\train\\sad\n",
      "Test directory: jaFFFFFFdataset\\test\\sad\n",
      "-----------------------------\n",
      "Class: surprise\n",
      "Number of images in training set: 24\n",
      "Number of images in testing set: 6\n",
      "Train directory: jaFFFFFFdataset\\train\\surprise\n",
      "Test directory: jaFFFFFFdataset\\test\\surprise\n",
      "-----------------------------\n"
     ]
    }
   ],
   "source": [
    "import os\n",
    "import random\n",
    "from shutil import copy2\n",
    "\n",
    "root_dir = 'jaffedbaseeCopy'  # Change this to your dataset directory\n",
    "class_subfolders = [d for d in os.listdir(root_dir) if os.path.isdir(os.path.join(root_dir, d))]\n",
    "\n",
    "train_ratio = 0.8\n",
    "\n",
    "# Create a new folder named 'dataset'\n",
    "dataset_dir = 'jaFFFFFFdataset'\n",
    "os.makedirs(dataset_dir, exist_ok=True)\n",
    "\n",
    "for class_subfolder in class_subfolders:\n",
    "    class_dir = os.path.join(root_dir, class_subfolder)\n",
    "    image_files = [f for f in os.listdir(class_dir) if f.endswith('.tiff') and os.path.isfile(os.path.join(class_dir, f))]\n",
    "    \n",
    "    # Shuffle the list of image files randomly\n",
    "    random.shuffle(image_files)\n",
    "    \n",
    "    # Calculate the split point\n",
    "    split_point = int(len(image_files) * train_ratio)\n",
    "    train_files = image_files[:split_point]\n",
    "    test_files = image_files[split_point:]\n",
    "    \n",
    "    # Create new folders for training and testing sets within 'dataset' folder\n",
    "    train_dir = os.path.join(dataset_dir, 'train', class_subfolder)\n",
    "    test_dir = os.path.join(dataset_dir, 'test', class_subfolder)\n",
    "    os.makedirs(train_dir, exist_ok=True)\n",
    "    os.makedirs(test_dir, exist_ok=True)\n",
    "    \n",
    "    # Copy the appropriate percentage of images to the training and testing folders\n",
    "    for file in train_files:\n",
    "        src_file_path = os.path.join(class_dir, file)\n",
    "        dest_file_path = os.path.join(train_dir, file)\n",
    "        copy2(src_file_path, dest_file_path)\n",
    "    \n",
    "    for file in test_files:\n",
    "        src_file_path = os.path.join(class_dir, file)\n",
    "        dest_file_path = os.path.join(test_dir, file)\n",
    "        copy2(src_file_path, dest_file_path)\n",
    "    \n",
    "    # Print some information for debugging\n",
    "    print(f\"Class: {class_subfolder}\")\n",
    "    print(f\"Number of images in training set: {len(train_files)}\")\n",
    "    print(f\"Number of images in testing set: {len(test_files)}\")\n",
    "    print(f\"Train directory: {train_dir}\")\n",
    "    print(f\"Test directory: {test_dir}\")\n",
    "    print(\"-----------------------------\")\n"
   ]
  },
  {
   "cell_type": "code",
   "execution_count": null,
   "id": "01a94fa7",
   "metadata": {},
   "outputs": [],
   "source": []
  },
  {
   "cell_type": "code",
   "execution_count": null,
   "id": "f21f7539",
   "metadata": {},
   "outputs": [],
   "source": []
  },
  {
   "cell_type": "code",
   "execution_count": null,
   "id": "ecb37d45",
   "metadata": {},
   "outputs": [],
   "source": []
  },
  {
   "cell_type": "code",
   "execution_count": null,
   "id": "38c67116",
   "metadata": {},
   "outputs": [],
   "source": []
  }
 ],
 "metadata": {
  "kernelspec": {
   "display_name": "Python 3 (ipykernel)",
   "language": "python",
   "name": "python3"
  },
  "language_info": {
   "codemirror_mode": {
    "name": "ipython",
    "version": 3
   },
   "file_extension": ".py",
   "mimetype": "text/x-python",
   "name": "python",
   "nbconvert_exporter": "python",
   "pygments_lexer": "ipython3",
   "version": "3.9.7"
  }
 },
 "nbformat": 4,
 "nbformat_minor": 5
}
